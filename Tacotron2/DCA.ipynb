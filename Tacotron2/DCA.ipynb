{
 "cells": [
  {
   "cell_type": "markdown",
   "id": "8c62ea7c-1afc-41bb-8386-af2463bca1dc",
   "metadata": {},
   "source": [
    "## Dynamic Convolution: Attention over Convolution Kernels\n",
    "\n"
   ]
  }
 ],
 "metadata": {
  "kernelspec": {
   "display_name": "Python 3",
   "language": "python",
   "name": "python3"
  },
  "language_info": {
   "codemirror_mode": {
    "name": "ipython",
    "version": 3
   },
   "file_extension": ".py",
   "mimetype": "text/x-python",
   "name": "python",
   "nbconvert_exporter": "python",
   "pygments_lexer": "ipython3",
   "version": "3.8.5"
  }
 },
 "nbformat": 4,
 "nbformat_minor": 5
}
